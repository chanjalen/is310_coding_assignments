{
 "cells": [
  {
   "cell_type": "code",
   "execution_count": 1,
   "metadata": {},
   "outputs": [],
   "source": [
    "import pandas as pd\n",
    "import altair as alt"
   ]
  },
  {
   "cell_type": "code",
   "execution_count": 5,
   "id": "2f064258",
   "metadata": {},
   "outputs": [],
   "source": [
    "filmscripts = pd.read_csv('cleaned_pudding_data.csv')\n",
    "meta_data = pd.read_csv('meta_data7.csv', encoding= 'unicode_escape')\n",
    "char_list = pd.read_csv('character_list5.csv', encoding = 'unicode_escape')\n",
    "char_map = pd.read_csv('character_mapping.csv', encoding = 'unicode_escape')\n"
   ]
  },
  {
   "cell_type": "code",
   "execution_count": 8,
   "id": "8183629e",
   "metadata": {},
   "outputs": [
    {
     "data": {
      "text/plain": [
       "year\n",
       "1929      8572\n",
       "1931     11601\n",
       "1932     67534\n",
       "1933     21125\n",
       "1934     24646\n",
       "         ...  \n",
       "2011    944803\n",
       "2012    654881\n",
       "2013    637486\n",
       "2014    707308\n",
       "2015    510435\n",
       "Name: words, Length: 81, dtype: int64"
      ]
     },
     "execution_count": 8,
     "metadata": {},
     "output_type": "execute_result"
    }
   ],
   "source": [
    "dialogue_df = pd.merge(char_list, meta_data, on='script_id', how=\"inner\")\n",
    "dialogue_df.groupby('year')['words'].sum()\n"
   ]
  },
  {
   "cell_type": "code",
   "execution_count": 16,
   "id": "944439e5",
   "metadata": {},
   "outputs": [
    {
     "data": {
      "text/html": [
       "\n",
       "<style>\n",
       "  #altair-viz-b4a04fa2fb364aec953d4f7608720a92.vega-embed {\n",
       "    width: 100%;\n",
       "    display: flex;\n",
       "  }\n",
       "\n",
       "  #altair-viz-b4a04fa2fb364aec953d4f7608720a92.vega-embed details,\n",
       "  #altair-viz-b4a04fa2fb364aec953d4f7608720a92.vega-embed details summary {\n",
       "    position: relative;\n",
       "  }\n",
       "</style>\n",
       "<div id=\"altair-viz-b4a04fa2fb364aec953d4f7608720a92\"></div>\n",
       "<script type=\"text/javascript\">\n",
       "  var VEGA_DEBUG = (typeof VEGA_DEBUG == \"undefined\") ? {} : VEGA_DEBUG;\n",
       "  (function(spec, embedOpt){\n",
       "    let outputDiv = document.currentScript.previousElementSibling;\n",
       "    if (outputDiv.id !== \"altair-viz-b4a04fa2fb364aec953d4f7608720a92\") {\n",
       "      outputDiv = document.getElementById(\"altair-viz-b4a04fa2fb364aec953d4f7608720a92\");\n",
       "    }\n",
       "    const paths = {\n",
       "      \"vega\": \"https://cdn.jsdelivr.net/npm/vega@5?noext\",\n",
       "      \"vega-lib\": \"https://cdn.jsdelivr.net/npm/vega-lib?noext\",\n",
       "      \"vega-lite\": \"https://cdn.jsdelivr.net/npm/vega-lite@5.16.3?noext\",\n",
       "      \"vega-embed\": \"https://cdn.jsdelivr.net/npm/vega-embed@6?noext\",\n",
       "    };\n",
       "\n",
       "    function maybeLoadScript(lib, version) {\n",
       "      var key = `${lib.replace(\"-\", \"\")}_version`;\n",
       "      return (VEGA_DEBUG[key] == version) ?\n",
       "        Promise.resolve(paths[lib]) :\n",
       "        new Promise(function(resolve, reject) {\n",
       "          var s = document.createElement('script');\n",
       "          document.getElementsByTagName(\"head\")[0].appendChild(s);\n",
       "          s.async = true;\n",
       "          s.onload = () => {\n",
       "            VEGA_DEBUG[key] = version;\n",
       "            return resolve(paths[lib]);\n",
       "          };\n",
       "          s.onerror = () => reject(`Error loading script: ${paths[lib]}`);\n",
       "          s.src = paths[lib];\n",
       "        });\n",
       "    }\n",
       "\n",
       "    function showError(err) {\n",
       "      outputDiv.innerHTML = `<div class=\"error\" style=\"color:red;\">${err}</div>`;\n",
       "      throw err;\n",
       "    }\n",
       "\n",
       "    function displayChart(vegaEmbed) {\n",
       "      vegaEmbed(outputDiv, spec, embedOpt)\n",
       "        .catch(err => showError(`Javascript Error: ${err.message}<br>This usually means there's a typo in your chart specification. See the javascript console for the full traceback.`));\n",
       "    }\n",
       "\n",
       "    if(typeof define === \"function\" && define.amd) {\n",
       "      requirejs.config({paths});\n",
       "      require([\"vega-embed\"], displayChart, err => showError(`Error loading script: ${err.message}`));\n",
       "    } else {\n",
       "      maybeLoadScript(\"vega\", \"5\")\n",
       "        .then(() => maybeLoadScript(\"vega-lite\", \"5.16.3\"))\n",
       "        .then(() => maybeLoadScript(\"vega-embed\", \"6\"))\n",
       "        .catch(showError)\n",
       "        .then(() => displayChart(vegaEmbed));\n",
       "    }\n",
       "  })({\"config\": {\"view\": {\"continuousWidth\": 300, \"continuousHeight\": 300}}, \"data\": {\"name\": \"data-7d86b1c5a8f59a262805d71279aa574d\"}, \"mark\": {\"type\": \"line\"}, \"encoding\": {\"x\": {\"field\": \"year\", \"type\": \"temporal\"}, \"y\": {\"field\": \"words\", \"type\": \"quantitative\"}}, \"$schema\": \"https://vega.github.io/schema/vega-lite/v5.16.3.json\", \"datasets\": {\"data-7d86b1c5a8f59a262805d71279aa574d\": [{\"year\": 1929, \"words\": 8572}, {\"year\": 1931, \"words\": 11601}, {\"year\": 1932, \"words\": 67534}, {\"year\": 1933, \"words\": 21125}, {\"year\": 1934, \"words\": 24646}, {\"year\": 1936, \"words\": 32380}, {\"year\": 1937, \"words\": 26192}, {\"year\": 1939, \"words\": 45109}, {\"year\": 1940, \"words\": 40977}, {\"year\": 1941, \"words\": 56795}, {\"year\": 1943, \"words\": 28861}, {\"year\": 1944, \"words\": 32208}, {\"year\": 1945, \"words\": 29230}, {\"year\": 1946, \"words\": 13678}, {\"year\": 1947, \"words\": 7688}, {\"year\": 1948, \"words\": 43830}, {\"year\": 1949, \"words\": 23440}, {\"year\": 1950, \"words\": 12149}, {\"year\": 1951, \"words\": 6399}, {\"year\": 1953, \"words\": 31074}, {\"year\": 1954, \"words\": 52272}, {\"year\": 1955, \"words\": 18280}, {\"year\": 1956, \"words\": 35286}, {\"year\": 1957, \"words\": 40979}, {\"year\": 1958, \"words\": 14896}, {\"year\": 1959, \"words\": 44422}, {\"year\": 1960, \"words\": 56698}, {\"year\": 1961, \"words\": 18600}, {\"year\": 1963, \"words\": 21996}, {\"year\": 1964, \"words\": 4895}, {\"year\": 1965, \"words\": 12780}, {\"year\": 1966, \"words\": 27648}, {\"year\": 1967, \"words\": 58485}, {\"year\": 1968, \"words\": 17918}, {\"year\": 1969, \"words\": 22244}, {\"year\": 1970, \"words\": 72693}, {\"year\": 1971, \"words\": 112442}, {\"year\": 1972, \"words\": 70358}, {\"year\": 1973, \"words\": 71312}, {\"year\": 1974, \"words\": 61713}, {\"year\": 1975, \"words\": 129884}, {\"year\": 1976, \"words\": 86732}, {\"year\": 1977, \"words\": 62871}, {\"year\": 1978, \"words\": 60174}, {\"year\": 1979, \"words\": 155487}, {\"year\": 1980, \"words\": 211444}, {\"year\": 1981, \"words\": 102710}, {\"year\": 1982, \"words\": 215358}, {\"year\": 1983, \"words\": 137266}, {\"year\": 1984, \"words\": 159963}, {\"year\": 1985, \"words\": 195535}, {\"year\": 1986, \"words\": 205862}, {\"year\": 1987, \"words\": 281291}, {\"year\": 1988, \"words\": 220812}, {\"year\": 1989, \"words\": 371167}, {\"year\": 1990, \"words\": 317887}, {\"year\": 1991, \"words\": 419962}, {\"year\": 1992, \"words\": 432379}, {\"year\": 1993, \"words\": 451761}, {\"year\": 1994, \"words\": 420542}, {\"year\": 1995, \"words\": 666427}, {\"year\": 1996, \"words\": 534001}, {\"year\": 1997, \"words\": 720235}, {\"year\": 1998, \"words\": 807564}, {\"year\": 1999, \"words\": 1028874}, {\"year\": 2000, \"words\": 748856}, {\"year\": 2001, \"words\": 692483}, {\"year\": 2002, \"words\": 496577}, {\"year\": 2003, \"words\": 492354}, {\"year\": 2004, \"words\": 567967}, {\"year\": 2005, \"words\": 702133}, {\"year\": 2006, \"words\": 513689}, {\"year\": 2007, \"words\": 631052}, {\"year\": 2008, \"words\": 807609}, {\"year\": 2009, \"words\": 1152099}, {\"year\": 2010, \"words\": 869297}, {\"year\": 2011, \"words\": 944803}, {\"year\": 2012, \"words\": 654881}, {\"year\": 2013, \"words\": 637486}, {\"year\": 2014, \"words\": 707308}, {\"year\": 2015, \"words\": 510435}]}}, {\"mode\": \"vega-lite\"});\n",
       "</script>"
      ],
      "text/plain": [
       "alt.Chart(...)"
      ]
     },
     "execution_count": 16,
     "metadata": {},
     "output_type": "execute_result"
    }
   ],
   "source": [
    "grouped_dialogue_df = dialogue_df.groupby('year')['words'].sum().reset_index()\n",
    "\n",
    "alt.Chart(grouped_dialogue_df).mark_line().encode(\n",
    "    x='year:T',\n",
    "    y='words',\n",
    ")"
   ]
  },
  {
   "cell_type": "code",
   "execution_count": 17,
   "id": "9e01c8ed",
   "metadata": {},
   "outputs": [],
   "source": [
    "grouped_dialogue_df['date'] = grouped_dialogue_df['year'].astype(str) + '-01-01'\n",
    "grouped_dialogue_df['date'] = pd.to_datetime(grouped_dialogue_df['date'])"
   ]
  },
  {
   "cell_type": "code",
   "execution_count": 18,
   "id": "ed221ae8",
   "metadata": {},
   "outputs": [
    {
     "data": {
      "text/html": [
       "\n",
       "<style>\n",
       "  #altair-viz-363ff2e59fe94b28a91949658a84ed7c.vega-embed {\n",
       "    width: 100%;\n",
       "    display: flex;\n",
       "  }\n",
       "\n",
       "  #altair-viz-363ff2e59fe94b28a91949658a84ed7c.vega-embed details,\n",
       "  #altair-viz-363ff2e59fe94b28a91949658a84ed7c.vega-embed details summary {\n",
       "    position: relative;\n",
       "  }\n",
       "</style>\n",
       "<div id=\"altair-viz-363ff2e59fe94b28a91949658a84ed7c\"></div>\n",
       "<script type=\"text/javascript\">\n",
       "  var VEGA_DEBUG = (typeof VEGA_DEBUG == \"undefined\") ? {} : VEGA_DEBUG;\n",
       "  (function(spec, embedOpt){\n",
       "    let outputDiv = document.currentScript.previousElementSibling;\n",
       "    if (outputDiv.id !== \"altair-viz-363ff2e59fe94b28a91949658a84ed7c\") {\n",
       "      outputDiv = document.getElementById(\"altair-viz-363ff2e59fe94b28a91949658a84ed7c\");\n",
       "    }\n",
       "    const paths = {\n",
       "      \"vega\": \"https://cdn.jsdelivr.net/npm/vega@5?noext\",\n",
       "      \"vega-lib\": \"https://cdn.jsdelivr.net/npm/vega-lib?noext\",\n",
       "      \"vega-lite\": \"https://cdn.jsdelivr.net/npm/vega-lite@5.16.3?noext\",\n",
       "      \"vega-embed\": \"https://cdn.jsdelivr.net/npm/vega-embed@6?noext\",\n",
       "    };\n",
       "\n",
       "    function maybeLoadScript(lib, version) {\n",
       "      var key = `${lib.replace(\"-\", \"\")}_version`;\n",
       "      return (VEGA_DEBUG[key] == version) ?\n",
       "        Promise.resolve(paths[lib]) :\n",
       "        new Promise(function(resolve, reject) {\n",
       "          var s = document.createElement('script');\n",
       "          document.getElementsByTagName(\"head\")[0].appendChild(s);\n",
       "          s.async = true;\n",
       "          s.onload = () => {\n",
       "            VEGA_DEBUG[key] = version;\n",
       "            return resolve(paths[lib]);\n",
       "          };\n",
       "          s.onerror = () => reject(`Error loading script: ${paths[lib]}`);\n",
       "          s.src = paths[lib];\n",
       "        });\n",
       "    }\n",
       "\n",
       "    function showError(err) {\n",
       "      outputDiv.innerHTML = `<div class=\"error\" style=\"color:red;\">${err}</div>`;\n",
       "      throw err;\n",
       "    }\n",
       "\n",
       "    function displayChart(vegaEmbed) {\n",
       "      vegaEmbed(outputDiv, spec, embedOpt)\n",
       "        .catch(err => showError(`Javascript Error: ${err.message}<br>This usually means there's a typo in your chart specification. See the javascript console for the full traceback.`));\n",
       "    }\n",
       "\n",
       "    if(typeof define === \"function\" && define.amd) {\n",
       "      requirejs.config({paths});\n",
       "      require([\"vega-embed\"], displayChart, err => showError(`Error loading script: ${err.message}`));\n",
       "    } else {\n",
       "      maybeLoadScript(\"vega\", \"5\")\n",
       "        .then(() => maybeLoadScript(\"vega-lite\", \"5.16.3\"))\n",
       "        .then(() => maybeLoadScript(\"vega-embed\", \"6\"))\n",
       "        .catch(showError)\n",
       "        .then(() => displayChart(vegaEmbed));\n",
       "    }\n",
       "  })({\"config\": {\"view\": {\"continuousWidth\": 300, \"continuousHeight\": 300}}, \"data\": {\"name\": \"data-2a283d9c50437fef82628db79679def7\"}, \"mark\": {\"type\": \"line\"}, \"encoding\": {\"x\": {\"field\": \"date\", \"type\": \"temporal\"}, \"y\": {\"field\": \"words\", \"type\": \"quantitative\"}}, \"$schema\": \"https://vega.github.io/schema/vega-lite/v5.16.3.json\", \"datasets\": {\"data-2a283d9c50437fef82628db79679def7\": [{\"year\": 1929, \"words\": 8572, \"date\": \"1929-01-01T00:00:00\"}, {\"year\": 1931, \"words\": 11601, \"date\": \"1931-01-01T00:00:00\"}, {\"year\": 1932, \"words\": 67534, \"date\": \"1932-01-01T00:00:00\"}, {\"year\": 1933, \"words\": 21125, \"date\": \"1933-01-01T00:00:00\"}, {\"year\": 1934, \"words\": 24646, \"date\": \"1934-01-01T00:00:00\"}, {\"year\": 1936, \"words\": 32380, \"date\": \"1936-01-01T00:00:00\"}, {\"year\": 1937, \"words\": 26192, \"date\": \"1937-01-01T00:00:00\"}, {\"year\": 1939, \"words\": 45109, \"date\": \"1939-01-01T00:00:00\"}, {\"year\": 1940, \"words\": 40977, \"date\": \"1940-01-01T00:00:00\"}, {\"year\": 1941, \"words\": 56795, \"date\": \"1941-01-01T00:00:00\"}, {\"year\": 1943, \"words\": 28861, \"date\": \"1943-01-01T00:00:00\"}, {\"year\": 1944, \"words\": 32208, \"date\": \"1944-01-01T00:00:00\"}, {\"year\": 1945, \"words\": 29230, \"date\": \"1945-01-01T00:00:00\"}, {\"year\": 1946, \"words\": 13678, \"date\": \"1946-01-01T00:00:00\"}, {\"year\": 1947, \"words\": 7688, \"date\": \"1947-01-01T00:00:00\"}, {\"year\": 1948, \"words\": 43830, \"date\": \"1948-01-01T00:00:00\"}, {\"year\": 1949, \"words\": 23440, \"date\": \"1949-01-01T00:00:00\"}, {\"year\": 1950, \"words\": 12149, \"date\": \"1950-01-01T00:00:00\"}, {\"year\": 1951, \"words\": 6399, \"date\": \"1951-01-01T00:00:00\"}, {\"year\": 1953, \"words\": 31074, \"date\": \"1953-01-01T00:00:00\"}, {\"year\": 1954, \"words\": 52272, \"date\": \"1954-01-01T00:00:00\"}, {\"year\": 1955, \"words\": 18280, \"date\": \"1955-01-01T00:00:00\"}, {\"year\": 1956, \"words\": 35286, \"date\": \"1956-01-01T00:00:00\"}, {\"year\": 1957, \"words\": 40979, \"date\": \"1957-01-01T00:00:00\"}, {\"year\": 1958, \"words\": 14896, \"date\": \"1958-01-01T00:00:00\"}, {\"year\": 1959, \"words\": 44422, \"date\": \"1959-01-01T00:00:00\"}, {\"year\": 1960, \"words\": 56698, \"date\": \"1960-01-01T00:00:00\"}, {\"year\": 1961, \"words\": 18600, \"date\": \"1961-01-01T00:00:00\"}, {\"year\": 1963, \"words\": 21996, \"date\": \"1963-01-01T00:00:00\"}, {\"year\": 1964, \"words\": 4895, \"date\": \"1964-01-01T00:00:00\"}, {\"year\": 1965, \"words\": 12780, \"date\": \"1965-01-01T00:00:00\"}, {\"year\": 1966, \"words\": 27648, \"date\": \"1966-01-01T00:00:00\"}, {\"year\": 1967, \"words\": 58485, \"date\": \"1967-01-01T00:00:00\"}, {\"year\": 1968, \"words\": 17918, \"date\": \"1968-01-01T00:00:00\"}, {\"year\": 1969, \"words\": 22244, \"date\": \"1969-01-01T00:00:00\"}, {\"year\": 1970, \"words\": 72693, \"date\": \"1970-01-01T00:00:00\"}, {\"year\": 1971, \"words\": 112442, \"date\": \"1971-01-01T00:00:00\"}, {\"year\": 1972, \"words\": 70358, \"date\": \"1972-01-01T00:00:00\"}, {\"year\": 1973, \"words\": 71312, \"date\": \"1973-01-01T00:00:00\"}, {\"year\": 1974, \"words\": 61713, \"date\": \"1974-01-01T00:00:00\"}, {\"year\": 1975, \"words\": 129884, \"date\": \"1975-01-01T00:00:00\"}, {\"year\": 1976, \"words\": 86732, \"date\": \"1976-01-01T00:00:00\"}, {\"year\": 1977, \"words\": 62871, \"date\": \"1977-01-01T00:00:00\"}, {\"year\": 1978, \"words\": 60174, \"date\": \"1978-01-01T00:00:00\"}, {\"year\": 1979, \"words\": 155487, \"date\": \"1979-01-01T00:00:00\"}, {\"year\": 1980, \"words\": 211444, \"date\": \"1980-01-01T00:00:00\"}, {\"year\": 1981, \"words\": 102710, \"date\": \"1981-01-01T00:00:00\"}, {\"year\": 1982, \"words\": 215358, \"date\": \"1982-01-01T00:00:00\"}, {\"year\": 1983, \"words\": 137266, \"date\": \"1983-01-01T00:00:00\"}, {\"year\": 1984, \"words\": 159963, \"date\": \"1984-01-01T00:00:00\"}, {\"year\": 1985, \"words\": 195535, \"date\": \"1985-01-01T00:00:00\"}, {\"year\": 1986, \"words\": 205862, \"date\": \"1986-01-01T00:00:00\"}, {\"year\": 1987, \"words\": 281291, \"date\": \"1987-01-01T00:00:00\"}, {\"year\": 1988, \"words\": 220812, \"date\": \"1988-01-01T00:00:00\"}, {\"year\": 1989, \"words\": 371167, \"date\": \"1989-01-01T00:00:00\"}, {\"year\": 1990, \"words\": 317887, \"date\": \"1990-01-01T00:00:00\"}, {\"year\": 1991, \"words\": 419962, \"date\": \"1991-01-01T00:00:00\"}, {\"year\": 1992, \"words\": 432379, \"date\": \"1992-01-01T00:00:00\"}, {\"year\": 1993, \"words\": 451761, \"date\": \"1993-01-01T00:00:00\"}, {\"year\": 1994, \"words\": 420542, \"date\": \"1994-01-01T00:00:00\"}, {\"year\": 1995, \"words\": 666427, \"date\": \"1995-01-01T00:00:00\"}, {\"year\": 1996, \"words\": 534001, \"date\": \"1996-01-01T00:00:00\"}, {\"year\": 1997, \"words\": 720235, \"date\": \"1997-01-01T00:00:00\"}, {\"year\": 1998, \"words\": 807564, \"date\": \"1998-01-01T00:00:00\"}, {\"year\": 1999, \"words\": 1028874, \"date\": \"1999-01-01T00:00:00\"}, {\"year\": 2000, \"words\": 748856, \"date\": \"2000-01-01T00:00:00\"}, {\"year\": 2001, \"words\": 692483, \"date\": \"2001-01-01T00:00:00\"}, {\"year\": 2002, \"words\": 496577, \"date\": \"2002-01-01T00:00:00\"}, {\"year\": 2003, \"words\": 492354, \"date\": \"2003-01-01T00:00:00\"}, {\"year\": 2004, \"words\": 567967, \"date\": \"2004-01-01T00:00:00\"}, {\"year\": 2005, \"words\": 702133, \"date\": \"2005-01-01T00:00:00\"}, {\"year\": 2006, \"words\": 513689, \"date\": \"2006-01-01T00:00:00\"}, {\"year\": 2007, \"words\": 631052, \"date\": \"2007-01-01T00:00:00\"}, {\"year\": 2008, \"words\": 807609, \"date\": \"2008-01-01T00:00:00\"}, {\"year\": 2009, \"words\": 1152099, \"date\": \"2009-01-01T00:00:00\"}, {\"year\": 2010, \"words\": 869297, \"date\": \"2010-01-01T00:00:00\"}, {\"year\": 2011, \"words\": 944803, \"date\": \"2011-01-01T00:00:00\"}, {\"year\": 2012, \"words\": 654881, \"date\": \"2012-01-01T00:00:00\"}, {\"year\": 2013, \"words\": 637486, \"date\": \"2013-01-01T00:00:00\"}, {\"year\": 2014, \"words\": 707308, \"date\": \"2014-01-01T00:00:00\"}, {\"year\": 2015, \"words\": 510435, \"date\": \"2015-01-01T00:00:00\"}]}}, {\"mode\": \"vega-lite\"});\n",
       "</script>"
      ],
      "text/plain": [
       "alt.Chart(...)"
      ]
     },
     "execution_count": 18,
     "metadata": {},
     "output_type": "execute_result"
    }
   ],
   "source": [
    "alt.Chart(grouped_dialogue_df).mark_line().encode(\n",
    "    x='date:T',\n",
    "    y='words',\n",
    ")"
   ]
  },
  {
   "cell_type": "code",
   "execution_count": 24,
   "id": "4c9c7e45",
   "metadata": {},
   "outputs": [
    {
     "data": {
      "text/html": [
       "\n",
       "<style>\n",
       "  #altair-viz-975d9c22465743538cd65a24fdeeafbf.vega-embed {\n",
       "    width: 100%;\n",
       "    display: flex;\n",
       "  }\n",
       "\n",
       "  #altair-viz-975d9c22465743538cd65a24fdeeafbf.vega-embed details,\n",
       "  #altair-viz-975d9c22465743538cd65a24fdeeafbf.vega-embed details summary {\n",
       "    position: relative;\n",
       "  }\n",
       "</style>\n",
       "<div id=\"altair-viz-975d9c22465743538cd65a24fdeeafbf\"></div>\n",
       "<script type=\"text/javascript\">\n",
       "  var VEGA_DEBUG = (typeof VEGA_DEBUG == \"undefined\") ? {} : VEGA_DEBUG;\n",
       "  (function(spec, embedOpt){\n",
       "    let outputDiv = document.currentScript.previousElementSibling;\n",
       "    if (outputDiv.id !== \"altair-viz-975d9c22465743538cd65a24fdeeafbf\") {\n",
       "      outputDiv = document.getElementById(\"altair-viz-975d9c22465743538cd65a24fdeeafbf\");\n",
       "    }\n",
       "    const paths = {\n",
       "      \"vega\": \"https://cdn.jsdelivr.net/npm/vega@5?noext\",\n",
       "      \"vega-lib\": \"https://cdn.jsdelivr.net/npm/vega-lib?noext\",\n",
       "      \"vega-lite\": \"https://cdn.jsdelivr.net/npm/vega-lite@5.16.3?noext\",\n",
       "      \"vega-embed\": \"https://cdn.jsdelivr.net/npm/vega-embed@6?noext\",\n",
       "    };\n",
       "\n",
       "    function maybeLoadScript(lib, version) {\n",
       "      var key = `${lib.replace(\"-\", \"\")}_version`;\n",
       "      return (VEGA_DEBUG[key] == version) ?\n",
       "        Promise.resolve(paths[lib]) :\n",
       "        new Promise(function(resolve, reject) {\n",
       "          var s = document.createElement('script');\n",
       "          document.getElementsByTagName(\"head\")[0].appendChild(s);\n",
       "          s.async = true;\n",
       "          s.onload = () => {\n",
       "            VEGA_DEBUG[key] = version;\n",
       "            return resolve(paths[lib]);\n",
       "          };\n",
       "          s.onerror = () => reject(`Error loading script: ${paths[lib]}`);\n",
       "          s.src = paths[lib];\n",
       "        });\n",
       "    }\n",
       "\n",
       "    function showError(err) {\n",
       "      outputDiv.innerHTML = `<div class=\"error\" style=\"color:red;\">${err}</div>`;\n",
       "      throw err;\n",
       "    }\n",
       "\n",
       "    function displayChart(vegaEmbed) {\n",
       "      vegaEmbed(outputDiv, spec, embedOpt)\n",
       "        .catch(err => showError(`Javascript Error: ${err.message}<br>This usually means there's a typo in your chart specification. See the javascript console for the full traceback.`));\n",
       "    }\n",
       "\n",
       "    if(typeof define === \"function\" && define.amd) {\n",
       "      requirejs.config({paths});\n",
       "      require([\"vega-embed\"], displayChart, err => showError(`Error loading script: ${err.message}`));\n",
       "    } else {\n",
       "      maybeLoadScript(\"vega\", \"5\")\n",
       "        .then(() => maybeLoadScript(\"vega-lite\", \"5.16.3\"))\n",
       "        .then(() => maybeLoadScript(\"vega-embed\", \"6\"))\n",
       "        .catch(showError)\n",
       "        .then(() => displayChart(vegaEmbed));\n",
       "    }\n",
       "  })({\"config\": {\"view\": {\"continuousWidth\": 300, \"continuousHeight\": 300}}, \"data\": {\"name\": \"data-690f4943daf5a813e50d20df4fd0f753\"}, \"mark\": {\"type\": \"line\"}, \"encoding\": {\"color\": {\"field\": \"gender\", \"type\": \"nominal\"}, \"tooltip\": [{\"field\": \"date\", \"type\": \"temporal\"}, {\"field\": \"words\", \"type\": \"quantitative\"}], \"x\": {\"field\": \"date\", \"type\": \"temporal\"}, \"y\": {\"field\": \"words\", \"type\": \"quantitative\"}}, \"title\": \"Dialogue Over Time Colored By Gender\", \"$schema\": \"https://vega.github.io/schema/vega-lite/v5.16.3.json\", \"datasets\": {\"data-690f4943daf5a813e50d20df4fd0f753\": [{\"year\": 1929, \"gender\": \"f\", \"words\": 1412, \"date\": \"1929-01-01T00:00:00\"}, {\"year\": 1929, \"gender\": \"m\", \"words\": 7160, \"date\": \"1929-01-01T00:00:00\"}, {\"year\": 1931, \"gender\": \"f\", \"words\": 2337, \"date\": \"1931-01-01T00:00:00\"}, {\"year\": 1931, \"gender\": \"m\", \"words\": 9264, \"date\": \"1931-01-01T00:00:00\"}, {\"year\": 1932, \"gender\": \"f\", \"words\": 17933, \"date\": \"1932-01-01T00:00:00\"}, {\"year\": 1932, \"gender\": \"m\", \"words\": 49601, \"date\": \"1932-01-01T00:00:00\"}, {\"year\": 1933, \"gender\": \"f\", \"words\": 5172, \"date\": \"1933-01-01T00:00:00\"}, {\"year\": 1933, \"gender\": \"m\", \"words\": 15953, \"date\": \"1933-01-01T00:00:00\"}, {\"year\": 1934, \"gender\": \"f\", \"words\": 7723, \"date\": \"1934-01-01T00:00:00\"}, {\"year\": 1934, \"gender\": \"m\", \"words\": 16923, \"date\": \"1934-01-01T00:00:00\"}, {\"year\": 1936, \"gender\": \"f\", \"words\": 5872, \"date\": \"1936-01-01T00:00:00\"}, {\"year\": 1936, \"gender\": \"m\", \"words\": 26508, \"date\": \"1936-01-01T00:00:00\"}, {\"year\": 1937, \"gender\": \"f\", \"words\": 2770, \"date\": \"1937-01-01T00:00:00\"}, {\"year\": 1937, \"gender\": \"m\", \"words\": 23422, \"date\": \"1937-01-01T00:00:00\"}, {\"year\": 1939, \"gender\": \"f\", \"words\": 11633, \"date\": \"1939-01-01T00:00:00\"}, {\"year\": 1939, \"gender\": \"m\", \"words\": 33476, \"date\": \"1939-01-01T00:00:00\"}, {\"year\": 1940, \"gender\": \"f\", \"words\": 11325, \"date\": \"1940-01-01T00:00:00\"}, {\"year\": 1940, \"gender\": \"m\", \"words\": 29652, \"date\": \"1940-01-01T00:00:00\"}, {\"year\": 1941, \"gender\": \"f\", \"words\": 13651, \"date\": \"1941-01-01T00:00:00\"}, {\"year\": 1941, \"gender\": \"m\", \"words\": 43144, \"date\": \"1941-01-01T00:00:00\"}, {\"year\": 1943, \"gender\": \"f\", \"words\": 12956, \"date\": \"1943-01-01T00:00:00\"}, {\"year\": 1943, \"gender\": \"m\", \"words\": 15905, \"date\": \"1943-01-01T00:00:00\"}, {\"year\": 1944, \"gender\": \"f\", \"words\": 12673, \"date\": \"1944-01-01T00:00:00\"}, {\"year\": 1944, \"gender\": \"m\", \"words\": 19535, \"date\": \"1944-01-01T00:00:00\"}, {\"year\": 1945, \"gender\": \"f\", \"words\": 7203, \"date\": \"1945-01-01T00:00:00\"}, {\"year\": 1945, \"gender\": \"m\", \"words\": 22027, \"date\": \"1945-01-01T00:00:00\"}, {\"year\": 1946, \"gender\": \"f\", \"words\": 1268, \"date\": \"1946-01-01T00:00:00\"}, {\"year\": 1946, \"gender\": \"m\", \"words\": 12410, \"date\": \"1946-01-01T00:00:00\"}, {\"year\": 1947, \"gender\": \"f\", \"words\": 1941, \"date\": \"1947-01-01T00:00:00\"}, {\"year\": 1947, \"gender\": \"m\", \"words\": 5747, \"date\": \"1947-01-01T00:00:00\"}, {\"year\": 1948, \"gender\": \"f\", \"words\": 10599, \"date\": \"1948-01-01T00:00:00\"}, {\"year\": 1948, \"gender\": \"m\", \"words\": 33231, \"date\": \"1948-01-01T00:00:00\"}, {\"year\": 1949, \"gender\": \"f\", \"words\": 5665, \"date\": \"1949-01-01T00:00:00\"}, {\"year\": 1949, \"gender\": \"m\", \"words\": 17775, \"date\": \"1949-01-01T00:00:00\"}, {\"year\": 1950, \"gender\": \"f\", \"words\": 5640, \"date\": \"1950-01-01T00:00:00\"}, {\"year\": 1950, \"gender\": \"m\", \"words\": 6509, \"date\": \"1950-01-01T00:00:00\"}, {\"year\": 1951, \"gender\": \"f\", \"words\": 947, \"date\": \"1951-01-01T00:00:00\"}, {\"year\": 1951, \"gender\": \"m\", \"words\": 5452, \"date\": \"1951-01-01T00:00:00\"}, {\"year\": 1953, \"gender\": \"f\", \"words\": 1299, \"date\": \"1953-01-01T00:00:00\"}, {\"year\": 1953, \"gender\": \"m\", \"words\": 29775, \"date\": \"1953-01-01T00:00:00\"}, {\"year\": 1954, \"gender\": \"f\", \"words\": 15552, \"date\": \"1954-01-01T00:00:00\"}, {\"year\": 1954, \"gender\": \"m\", \"words\": 36720, \"date\": \"1954-01-01T00:00:00\"}, {\"year\": 1955, \"gender\": \"f\", \"words\": 998, \"date\": \"1955-01-01T00:00:00\"}, {\"year\": 1955, \"gender\": \"m\", \"words\": 17282, \"date\": \"1955-01-01T00:00:00\"}, {\"year\": 1956, \"gender\": \"f\", \"words\": 10182, \"date\": \"1956-01-01T00:00:00\"}, {\"year\": 1956, \"gender\": \"m\", \"words\": 25104, \"date\": \"1956-01-01T00:00:00\"}, {\"year\": 1957, \"gender\": \"f\", \"words\": 9183, \"date\": \"1957-01-01T00:00:00\"}, {\"year\": 1957, \"gender\": \"m\", \"words\": 31796, \"date\": \"1957-01-01T00:00:00\"}, {\"year\": 1958, \"gender\": \"f\", \"words\": 3635, \"date\": \"1958-01-01T00:00:00\"}, {\"year\": 1958, \"gender\": \"m\", \"words\": 11261, \"date\": \"1958-01-01T00:00:00\"}, {\"year\": 1959, \"gender\": \"f\", \"words\": 11439, \"date\": \"1959-01-01T00:00:00\"}, {\"year\": 1959, \"gender\": \"m\", \"words\": 32983, \"date\": \"1959-01-01T00:00:00\"}, {\"year\": 1960, \"gender\": \"f\", \"words\": 19037, \"date\": \"1960-01-01T00:00:00\"}, {\"year\": 1960, \"gender\": \"m\", \"words\": 37661, \"date\": \"1960-01-01T00:00:00\"}, {\"year\": 1961, \"gender\": \"f\", \"words\": 5503, \"date\": \"1961-01-01T00:00:00\"}, {\"year\": 1961, \"gender\": \"m\", \"words\": 13097, \"date\": \"1961-01-01T00:00:00\"}, {\"year\": 1963, \"gender\": \"f\", \"words\": 14284, \"date\": \"1963-01-01T00:00:00\"}, {\"year\": 1963, \"gender\": \"m\", \"words\": 7712, \"date\": \"1963-01-01T00:00:00\"}, {\"year\": 1964, \"gender\": \"f\", \"words\": 1320, \"date\": \"1964-01-01T00:00:00\"}, {\"year\": 1964, \"gender\": \"m\", \"words\": 3575, \"date\": \"1964-01-01T00:00:00\"}, {\"year\": 1965, \"gender\": \"f\", \"words\": 3358, \"date\": \"1965-01-01T00:00:00\"}, {\"year\": 1965, \"gender\": \"m\", \"words\": 9422, \"date\": \"1965-01-01T00:00:00\"}, {\"year\": 1966, \"gender\": \"f\", \"words\": 2624, \"date\": \"1966-01-01T00:00:00\"}, {\"year\": 1966, \"gender\": \"m\", \"words\": 25024, \"date\": \"1966-01-01T00:00:00\"}, {\"year\": 1967, \"gender\": \"f\", \"words\": 13005, \"date\": \"1967-01-01T00:00:00\"}, {\"year\": 1967, \"gender\": \"m\", \"words\": 45480, \"date\": \"1967-01-01T00:00:00\"}, {\"year\": 1968, \"gender\": \"f\", \"words\": 5249, \"date\": \"1968-01-01T00:00:00\"}, {\"year\": 1968, \"gender\": \"m\", \"words\": 12669, \"date\": \"1968-01-01T00:00:00\"}, {\"year\": 1969, \"gender\": \"f\", \"words\": 1478, \"date\": \"1969-01-01T00:00:00\"}, {\"year\": 1969, \"gender\": \"m\", \"words\": 20766, \"date\": \"1969-01-01T00:00:00\"}, {\"year\": 1970, \"gender\": \"f\", \"words\": 9824, \"date\": \"1970-01-01T00:00:00\"}, {\"year\": 1970, \"gender\": \"m\", \"words\": 62869, \"date\": \"1970-01-01T00:00:00\"}, {\"year\": 1971, \"gender\": \"f\", \"words\": 27635, \"date\": \"1971-01-01T00:00:00\"}, {\"year\": 1971, \"gender\": \"m\", \"words\": 84807, \"date\": \"1971-01-01T00:00:00\"}, {\"year\": 1972, \"gender\": \"f\", \"words\": 14453, \"date\": \"1972-01-01T00:00:00\"}, {\"year\": 1972, \"gender\": \"m\", \"words\": 55905, \"date\": \"1972-01-01T00:00:00\"}, {\"year\": 1973, \"gender\": \"f\", \"words\": 14036, \"date\": \"1973-01-01T00:00:00\"}, {\"year\": 1973, \"gender\": \"m\", \"words\": 57276, \"date\": \"1973-01-01T00:00:00\"}, {\"year\": 1974, \"gender\": \"f\", \"words\": 7347, \"date\": \"1974-01-01T00:00:00\"}, {\"year\": 1974, \"gender\": \"m\", \"words\": 54366, \"date\": \"1974-01-01T00:00:00\"}, {\"year\": 1975, \"gender\": \"f\", \"words\": 32306, \"date\": \"1975-01-01T00:00:00\"}, {\"year\": 1975, \"gender\": \"m\", \"words\": 97578, \"date\": \"1975-01-01T00:00:00\"}, {\"year\": 1976, \"gender\": \"f\", \"words\": 13196, \"date\": \"1976-01-01T00:00:00\"}, {\"year\": 1976, \"gender\": \"m\", \"words\": 73536, \"date\": \"1976-01-01T00:00:00\"}, {\"year\": 1977, \"gender\": \"f\", \"words\": 18556, \"date\": \"1977-01-01T00:00:00\"}, {\"year\": 1977, \"gender\": \"m\", \"words\": 44315, \"date\": \"1977-01-01T00:00:00\"}, {\"year\": 1978, \"gender\": \"f\", \"words\": 17469, \"date\": \"1978-01-01T00:00:00\"}, {\"year\": 1978, \"gender\": \"m\", \"words\": 42705, \"date\": \"1978-01-01T00:00:00\"}, {\"year\": 1979, \"gender\": \"f\", \"words\": 35039, \"date\": \"1979-01-01T00:00:00\"}, {\"year\": 1979, \"gender\": \"m\", \"words\": 120448, \"date\": \"1979-01-01T00:00:00\"}, {\"year\": 1980, \"gender\": \"f\", \"words\": 59257, \"date\": \"1980-01-01T00:00:00\"}, {\"year\": 1980, \"gender\": \"m\", \"words\": 152187, \"date\": \"1980-01-01T00:00:00\"}, {\"year\": 1981, \"gender\": \"f\", \"words\": 30266, \"date\": \"1981-01-01T00:00:00\"}, {\"year\": 1981, \"gender\": \"m\", \"words\": 72444, \"date\": \"1981-01-01T00:00:00\"}, {\"year\": 1982, \"gender\": \"f\", \"words\": 56351, \"date\": \"1982-01-01T00:00:00\"}, {\"year\": 1982, \"gender\": \"m\", \"words\": 159007, \"date\": \"1982-01-01T00:00:00\"}, {\"year\": 1983, \"gender\": \"f\", \"words\": 35427, \"date\": \"1983-01-01T00:00:00\"}, {\"year\": 1983, \"gender\": \"m\", \"words\": 101839, \"date\": \"1983-01-01T00:00:00\"}, {\"year\": 1984, \"gender\": \"f\", \"words\": 48977, \"date\": \"1984-01-01T00:00:00\"}, {\"year\": 1984, \"gender\": \"m\", \"words\": 110986, \"date\": \"1984-01-01T00:00:00\"}, {\"year\": 1985, \"gender\": \"f\", \"words\": 59992, \"date\": \"1985-01-01T00:00:00\"}, {\"year\": 1985, \"gender\": \"m\", \"words\": 135543, \"date\": \"1985-01-01T00:00:00\"}, {\"year\": 1986, \"gender\": \"f\", \"words\": 58057, \"date\": \"1986-01-01T00:00:00\"}, {\"year\": 1986, \"gender\": \"m\", \"words\": 147805, \"date\": \"1986-01-01T00:00:00\"}, {\"year\": 1987, \"gender\": \"f\", \"words\": 68483, \"date\": \"1987-01-01T00:00:00\"}, {\"year\": 1987, \"gender\": \"m\", \"words\": 212808, \"date\": \"1987-01-01T00:00:00\"}, {\"year\": 1988, \"gender\": \"f\", \"words\": 64772, \"date\": \"1988-01-01T00:00:00\"}, {\"year\": 1988, \"gender\": \"m\", \"words\": 156040, \"date\": \"1988-01-01T00:00:00\"}, {\"year\": 1989, \"gender\": \"f\", \"words\": 84852, \"date\": \"1989-01-01T00:00:00\"}, {\"year\": 1989, \"gender\": \"m\", \"words\": 286315, \"date\": \"1989-01-01T00:00:00\"}, {\"year\": 1990, \"gender\": \"f\", \"words\": 85722, \"date\": \"1990-01-01T00:00:00\"}, {\"year\": 1990, \"gender\": \"m\", \"words\": 232165, \"date\": \"1990-01-01T00:00:00\"}, {\"year\": 1991, \"gender\": \"?\", \"words\": 536, \"date\": \"1991-01-01T00:00:00\"}, {\"year\": 1991, \"gender\": \"f\", \"words\": 110661, \"date\": \"1991-01-01T00:00:00\"}, {\"year\": 1991, \"gender\": \"m\", \"words\": 308765, \"date\": \"1991-01-01T00:00:00\"}, {\"year\": 1992, \"gender\": \"f\", \"words\": 99534, \"date\": \"1992-01-01T00:00:00\"}, {\"year\": 1992, \"gender\": \"m\", \"words\": 332845, \"date\": \"1992-01-01T00:00:00\"}, {\"year\": 1993, \"gender\": \"f\", \"words\": 119183, \"date\": \"1993-01-01T00:00:00\"}, {\"year\": 1993, \"gender\": \"m\", \"words\": 332578, \"date\": \"1993-01-01T00:00:00\"}, {\"year\": 1994, \"gender\": \"f\", \"words\": 110544, \"date\": \"1994-01-01T00:00:00\"}, {\"year\": 1994, \"gender\": \"m\", \"words\": 309998, \"date\": \"1994-01-01T00:00:00\"}, {\"year\": 1995, \"gender\": \"f\", \"words\": 197870, \"date\": \"1995-01-01T00:00:00\"}, {\"year\": 1995, \"gender\": \"m\", \"words\": 468557, \"date\": \"1995-01-01T00:00:00\"}, {\"year\": 1996, \"gender\": \"f\", \"words\": 142147, \"date\": \"1996-01-01T00:00:00\"}, {\"year\": 1996, \"gender\": \"m\", \"words\": 391854, \"date\": \"1996-01-01T00:00:00\"}, {\"year\": 1997, \"gender\": \"f\", \"words\": 193260, \"date\": \"1997-01-01T00:00:00\"}, {\"year\": 1997, \"gender\": \"m\", \"words\": 526975, \"date\": \"1997-01-01T00:00:00\"}, {\"year\": 1998, \"gender\": \"f\", \"words\": 213565, \"date\": \"1998-01-01T00:00:00\"}, {\"year\": 1998, \"gender\": \"m\", \"words\": 593999, \"date\": \"1998-01-01T00:00:00\"}, {\"year\": 1999, \"gender\": \"f\", \"words\": 289681, \"date\": \"1999-01-01T00:00:00\"}, {\"year\": 1999, \"gender\": \"m\", \"words\": 739193, \"date\": \"1999-01-01T00:00:00\"}, {\"year\": 2000, \"gender\": \"f\", \"words\": 199887, \"date\": \"2000-01-01T00:00:00\"}, {\"year\": 2000, \"gender\": \"m\", \"words\": 548969, \"date\": \"2000-01-01T00:00:00\"}, {\"year\": 2001, \"gender\": \"f\", \"words\": 205328, \"date\": \"2001-01-01T00:00:00\"}, {\"year\": 2001, \"gender\": \"m\", \"words\": 487155, \"date\": \"2001-01-01T00:00:00\"}, {\"year\": 2002, \"gender\": \"f\", \"words\": 133410, \"date\": \"2002-01-01T00:00:00\"}, {\"year\": 2002, \"gender\": \"m\", \"words\": 363167, \"date\": \"2002-01-01T00:00:00\"}, {\"year\": 2003, \"gender\": \"?\", \"words\": 488, \"date\": \"2003-01-01T00:00:00\"}, {\"year\": 2003, \"gender\": \"f\", \"words\": 129991, \"date\": \"2003-01-01T00:00:00\"}, {\"year\": 2003, \"gender\": \"m\", \"words\": 361875, \"date\": \"2003-01-01T00:00:00\"}, {\"year\": 2004, \"gender\": \"f\", \"words\": 158648, \"date\": \"2004-01-01T00:00:00\"}, {\"year\": 2004, \"gender\": \"m\", \"words\": 409319, \"date\": \"2004-01-01T00:00:00\"}, {\"year\": 2005, \"gender\": \"f\", \"words\": 202356, \"date\": \"2005-01-01T00:00:00\"}, {\"year\": 2005, \"gender\": \"m\", \"words\": 499777, \"date\": \"2005-01-01T00:00:00\"}, {\"year\": 2006, \"gender\": \"f\", \"words\": 144684, \"date\": \"2006-01-01T00:00:00\"}, {\"year\": 2006, \"gender\": \"m\", \"words\": 369005, \"date\": \"2006-01-01T00:00:00\"}, {\"year\": 2007, \"gender\": \"f\", \"words\": 170943, \"date\": \"2007-01-01T00:00:00\"}, {\"year\": 2007, \"gender\": \"m\", \"words\": 460109, \"date\": \"2007-01-01T00:00:00\"}, {\"year\": 2008, \"gender\": \"f\", \"words\": 242327, \"date\": \"2008-01-01T00:00:00\"}, {\"year\": 2008, \"gender\": \"m\", \"words\": 565282, \"date\": \"2008-01-01T00:00:00\"}, {\"year\": 2009, \"gender\": \"f\", \"words\": 367845, \"date\": \"2009-01-01T00:00:00\"}, {\"year\": 2009, \"gender\": \"m\", \"words\": 784254, \"date\": \"2009-01-01T00:00:00\"}, {\"year\": 2010, \"gender\": \"f\", \"words\": 278024, \"date\": \"2010-01-01T00:00:00\"}, {\"year\": 2010, \"gender\": \"m\", \"words\": 591273, \"date\": \"2010-01-01T00:00:00\"}, {\"year\": 2011, \"gender\": \"f\", \"words\": 301780, \"date\": \"2011-01-01T00:00:00\"}, {\"year\": 2011, \"gender\": \"m\", \"words\": 643023, \"date\": \"2011-01-01T00:00:00\"}, {\"year\": 2012, \"gender\": \"f\", \"words\": 183780, \"date\": \"2012-01-01T00:00:00\"}, {\"year\": 2012, \"gender\": \"m\", \"words\": 471101, \"date\": \"2012-01-01T00:00:00\"}, {\"year\": 2013, \"gender\": \"?\", \"words\": 383, \"date\": \"2013-01-01T00:00:00\"}, {\"year\": 2013, \"gender\": \"f\", \"words\": 190277, \"date\": \"2013-01-01T00:00:00\"}, {\"year\": 2013, \"gender\": \"m\", \"words\": 446826, \"date\": \"2013-01-01T00:00:00\"}, {\"year\": 2014, \"gender\": \"f\", \"words\": 218443, \"date\": \"2014-01-01T00:00:00\"}, {\"year\": 2014, \"gender\": \"m\", \"words\": 488865, \"date\": \"2014-01-01T00:00:00\"}, {\"year\": 2015, \"gender\": \"f\", \"words\": 174606, \"date\": \"2015-01-01T00:00:00\"}, {\"year\": 2015, \"gender\": \"m\", \"words\": 335829, \"date\": \"2015-01-01T00:00:00\"}]}}, {\"mode\": \"vega-lite\"});\n",
       "</script>"
      ],
      "text/plain": [
       "alt.Chart(...)"
      ]
     },
     "execution_count": 24,
     "metadata": {},
     "output_type": "execute_result"
    }
   ],
   "source": [
    "grouped_dialogue_df = dialogue_df.groupby(['year', 'gender'])['words'].sum().reset_index()\n",
    "grouped_dialogue_df['date'] = grouped_dialogue_df['year'].astype(str) + '-01-01'\n",
    "grouped_dialogue_df['date'] = pd.to_datetime(grouped_dialogue_df['date'])\n",
    "alt.Chart(grouped_dialogue_df).mark_line().encode(\n",
    "    x='date:T',\n",
    "    y='words',\n",
    "    color='gender',\n",
    "    tooltip=['date', 'words']\n",
    ").properties(\n",
    "    title='Dialogue Over Time Colored By Gender'\n",
    ")"
   ]
  },
  {
   "cell_type": "markdown",
   "id": "81edefbc",
   "metadata": {},
   "source": [
    "# How could we tell if the amount of dialogue was increasing over time in movies? How might this influence the assessment about the breakdown of gender dialogue?"
   ]
  },
  {
   "cell_type": "markdown",
   "id": "7acf327b",
   "metadata": {},
   "source": [
    "When looking at the graph we can see that the dialogue seems to be increasing for the most part over the course of the years. When seperating the genders, we can see that the pattern that they follow is similar shape, but males tended to have sharper spikes."
   ]
  },
  {
   "cell_type": "markdown",
   "id": "8dd616c3",
   "metadata": {},
   "source": [
    "# How could test if there was any relationship between the film’s gross value and the amount of dialogue in the film?\n"
   ]
  },
  {
   "cell_type": "markdown",
   "id": "9d59f462",
   "metadata": {},
   "source": [
    "A way that we can test if there is a relationship between gross value and amount of dialogue is instead of having the x value = to date, we could change it to gross value."
   ]
  }
 ],
 "metadata": {
  "kernelspec": {
   "display_name": ".venv",
   "language": "python",
   "name": "python3"
  },
  "language_info": {
   "codemirror_mode": {
    "name": "ipython",
    "version": 3
   },
   "file_extension": ".py",
   "mimetype": "text/x-python",
   "name": "python",
   "nbconvert_exporter": "python",
   "pygments_lexer": "ipython3",
   "version": "3.10.12"
  }
 },
 "nbformat": 4,
 "nbformat_minor": 5
}
