{
 "cells": [
  {
   "cell_type": "code",
   "execution_count": 5,
   "id": "3e72c562-bd84-43e5-91b2-f3b7b39b47a3",
   "metadata": {},
   "outputs": [],
   "source": [
    "import pandas as pd\n",
    "from bs4 import BeautifulSoup\n",
    "import requests\n",
    "import csv"
   ]
  },
  {
   "cell_type": "code",
   "execution_count": 6,
   "id": "0b2de429",
   "metadata": {},
   "outputs": [
    {
     "data": {
      "text/plain": [
       "[]"
      ]
     },
     "execution_count": 6,
     "metadata": {},
     "output_type": "execute_result"
    }
   ],
   "source": [
    "url='https://humanist.kdl.kcl.ac.uk/Archives/'\n",
    "response = requests.get(url)\n",
    "soup = BeautifulSoup(response.text, features=\"html.parser\")\n",
    "\n",
    "links = soup.find_all('a')[1:]\n",
    "links"
   ]
  },
  {
   "cell_type": "code",
   "execution_count": 7,
   "id": "99480dff",
   "metadata": {},
   "outputs": [
    {
     "name": "stdout",
     "output_type": "stream",
     "text": [
      "No links found.\n"
     ]
    }
   ],
   "source": [
    "if links:\n",
    "    newurl = url + links[0].get('href')\n",
    "    outer = requests.get(newurl)\n",
    "    outersoup = BeautifulSoup(outer.text, features=\"html.parser\")\n",
    "    link = outersoup.find_all('a')[1].get('href')\n",
    "    link\n",
    "else:\n",
    "    print(\"No links found.\")"
   ]
  },
  {
   "cell_type": "code",
   "execution_count": 10,
   "id": "2577c16e",
   "metadata": {},
   "outputs": [
    {
     "ename": "NameError",
     "evalue": "name 'link' is not defined",
     "output_type": "error",
     "traceback": [
      "\u001b[0;31m---------------------------------------------------------------------------\u001b[0m",
      "\u001b[0;31mNameError\u001b[0m                                 Traceback (most recent call last)",
      "Cell \u001b[0;32mIn[10], line 4\u001b[0m\n\u001b[1;32m      2\u001b[0m writer \u001b[38;5;241m=\u001b[39m csv\u001b[38;5;241m.\u001b[39mwriter(f)\n\u001b[1;32m      3\u001b[0m writer\u001b[38;5;241m.\u001b[39mwriterow([\u001b[38;5;124m'\u001b[39m\u001b[38;5;124mLink\u001b[39m\u001b[38;5;124m'\u001b[39m, \u001b[38;5;124m'\u001b[39m\u001b[38;5;124mText\u001b[39m\u001b[38;5;124m'\u001b[39m,\u001b[38;5;124m'\u001b[39m\u001b[38;5;124mYears\u001b[39m\u001b[38;5;124m'\u001b[39m])\n\u001b[0;32m----> 4\u001b[0m \u001b[38;5;28;01mfor\u001b[39;00m l \u001b[38;5;129;01min\u001b[39;00m \u001b[43mlink\u001b[49m:\n\u001b[1;32m      5\u001b[0m     v_url \u001b[38;5;241m=\u001b[39m newurl \u001b[38;5;241m+\u001b[39m link\u001b[38;5;241m.\u001b[39mget(\u001b[38;5;124m'\u001b[39m\u001b[38;5;124mhref\u001b[39m\u001b[38;5;124m'\u001b[39m)\n\u001b[1;32m      6\u001b[0m     v_response \u001b[38;5;241m=\u001b[39m requests\u001b[38;5;241m.\u001b[39mget(v_url)\n",
      "\u001b[0;31mNameError\u001b[0m: name 'link' is not defined"
     ]
    }
   ],
   "source": [
    "with open ('curatingdata.csv', 'w', newline = '', encoding = 'utf-8') as f:\n",
    "    writer = csv.writer(f)\n",
    "    writer.writerow(['Link', 'Text','Years'])\n",
    "    for l in link:\n",
    "        v_url = newurl + link.get('href')\n",
    "        v_response = requests.get(v_url)\n",
    "        v_soup = BeautifulSoup(v_response.text, \"html.parser\")\n",
    "        writer.writerow([link.get_text(), v_soup.get_text()[:10000],link.get_text().split(\".\")[1]])\n",
    "\n",
    "curatedata = pd.read_csv('curatingdata.csv')\n",
    "curatedata\n",
    "    "
   ]
  },
  {
   "cell_type": "code",
   "execution_count": null,
   "id": "efc382b2",
   "metadata": {},
   "outputs": [],
   "source": []
  }
 ],
 "metadata": {
  "kernelspec": {
   "display_name": ".venv",
   "language": "python",
   "name": "python3"
  },
  "language_info": {
   "codemirror_mode": {
    "name": "ipython",
    "version": 3
   },
   "file_extension": ".py",
   "mimetype": "text/x-python",
   "name": "python",
   "nbconvert_exporter": "python",
   "pygments_lexer": "ipython3",
   "version": "3.10.12"
  }
 },
 "nbformat": 4,
 "nbformat_minor": 5
}
